{
  "nbformat": 4,
  "nbformat_minor": 0,
  "metadata": {
    "colab": {
      "provenance": [],
      "toc_visible": true,
      "authorship_tag": "ABX9TyPSAqtvZKcam35WQRIaP+zn",
      "include_colab_link": true
    },
    "kernelspec": {
      "name": "python3",
      "display_name": "Python 3"
    },
    "language_info": {
      "name": "python"
    }
  },
  "cells": [
    {
      "cell_type": "markdown",
      "metadata": {
        "id": "view-in-github",
        "colab_type": "text"
      },
      "source": [
        "<a href=\"https://colab.research.google.com/github/azkatsuragi/python-tutorial/blob/main/exercise/azkatsuragi/exer1.ipynb\" target=\"_parent\"><img src=\"https://colab.research.google.com/assets/colab-badge.svg\" alt=\"Open In Colab\"/></a>"
      ]
    },
    {
      "cell_type": "markdown",
      "source": [
        "# Basic Information\n",
        "## Hello World\n",
        "### Hello World\n",
        "#### Hello World"
      ],
      "metadata": {
        "id": "BBGOLbD7bbX8"
      }
    },
    {
      "cell_type": "markdown",
      "source": [
        "**Python**, a `programming language` with a legacy spanning nearly *three decades*, boasts a storied and influential past."
      ],
      "metadata": {
        "id": "yMwRUNdab5wy"
      }
    },
    {
      "cell_type": "code",
      "source": [
        "pip install numpy"
      ],
      "metadata": {
        "colab": {
          "base_uri": "https://localhost:8080/"
        },
        "id": "_oDIjFPPcXWk",
        "outputId": "f711143e-7a30-4ebd-ae36-379316ab12ec"
      },
      "execution_count": 1,
      "outputs": [
        {
          "output_type": "stream",
          "name": "stdout",
          "text": [
            "Requirement already satisfied: numpy in /usr/local/lib/python3.10/dist-packages (1.23.5)\n"
          ]
        }
      ]
    },
    {
      "cell_type": "markdown",
      "source": [
        "# Section 1\n",
        "# Section 2\n",
        "## Sub-section under Section 2\n",
        "### Sub-section under the sub-section under Section 2\n",
        "# Section 3"
      ],
      "metadata": {
        "id": "LRKXRWmzc-wT"
      }
    },
    {
      "cell_type": "markdown",
      "source": [
        ">One level of indentation\n",
        ">>Two levels of indentation"
      ],
      "metadata": {
        "id": "u4kB1RIEdECV"
      }
    },
    {
      "cell_type": "markdown",
      "source": [
        "```python\n",
        "print(\"a\")\n",
        "```"
      ],
      "metadata": {
        "id": "RZK3cFyedVE3"
      }
    },
    {
      "cell_type": "markdown",
      "source": [
        "1. One\n",
        "1. Two\n",
        "1. Three"
      ],
      "metadata": {
        "id": "WptfXuVOdfU-"
      }
    },
    {
      "cell_type": "markdown",
      "source": [
        "* One\n",
        "* Two\n",
        "* Three"
      ],
      "metadata": {
        "id": "JYTLOGk9dgWL"
      }
    },
    {
      "cell_type": "markdown",
      "source": [
        "$y=x^2$\n",
        "\n",
        "$e^{i\\pi} + 1 = 0$\n",
        "\n",
        "$e^x=\\sum_{i=0}^\\infty \\frac{1}{i!}x^i$\n",
        "\n",
        "$\\frac{n!}{k!(n-k)!} = {n \\choose k}$\n",
        "\n",
        "$A_{m,n} =\n",
        " \\begin{pmatrix}\n",
        "  a_{1,1} & a_{1,2} & \\cdots & a_{1,n} \\\\\n",
        "  a_{2,1} & a_{2,2} & \\cdots & a_{2,n} \\\\\n",
        "  \\vdots  & \\vdots  & \\ddots & \\vdots  \\\\\n",
        "  a_{m,1} & a_{m,2} & \\cdots & a_{m,n}\n",
        " \\end{pmatrix}$"
      ],
      "metadata": {
        "id": "sW81obQsdi7l"
      }
    },
    {
      "cell_type": "markdown",
      "source": [
        "First column name  | Second column name\n",
        "-------------------|------------------\n",
        "Row 1, Col 1       | Row 1, Col 2\n",
        "Row 2, Col 1       | Row 2, Col 2"
      ],
      "metadata": {
        "id": "po5etC3bdm7e"
      }
    },
    {
      "cell_type": "markdown",
      "source": [
        "---"
      ],
      "metadata": {
        "id": "WND9Mnrmdp8i"
      }
    },
    {
      "cell_type": "markdown",
      "source": [],
      "metadata": {
        "id": "8chP0zHrds2E"
      }
    }
  ]
}